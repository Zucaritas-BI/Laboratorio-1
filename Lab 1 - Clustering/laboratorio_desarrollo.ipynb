{
 "cells": [
  {
   "attachments": {},
   "cell_type": "markdown",
   "metadata": {},
   "source": [
    "![logo_universidad](https://bloqueneon.uniandes.edu.co//content/enforced/171175-202310_ISIS3301_02/morado/assets/img/banner.png?_&d2lSessionVal=d1HNZaZihV1jOwJNVtWDIWG7y&ou=171175)"
   ]
  },
  {
   "attachments": {},
   "cell_type": "markdown",
   "metadata": {},
   "source": [
    "## Laboratorio 1 - Clustering\n",
    "\n",
    "El objetivo de este notebook es realizar el analisis del caso BiciAlpes, para el cual se tiene un conjunto de datos que contiene información de los accidentes ocurridos involucrando bicicletas en la ciudad de Bogotá. El objetivo es realizar un análisis exploratorio de los datos para identificar patrones y relaciones entre las variables, y así poder responder las preguntas de negocio planteadas. Adicionalmente, se espera usar 3 algoritmos de agrupamiento para identificar grupos de accidentes que se puedan utilizar para responder las preguntas de negocio.\n",
    "\n",
    "Por medio de 3 iteraciones, se espera que el grupo desarrolle un modelo de agrupamiento que permita responder las preguntas de negocio. En cada iteración se espera que nuestro equipo de trabajo realice los siguientes pasos:\n",
    "\n",
    "* **Iteración1.** Analisis exploratorio de los datos y creación de un primer modelo de agrupamiento.\n",
    "* **Iteración2.** Segundo modelo con mejoras a nivel de preparación de datos y configuración de hiper-parámetros\n",
    "* **Iteración3.** Modelo final que incluye mejoras identificadas al revisar mejor la literatura y la documentación de los algoritmos de agrupamiento.\n",
    "\n",
    "### Descripción de negocio\n",
    "\n",
    "BiciAlpes es una organización que presta un servicio de alquiler de bicicletas, solidario y con muchos beneficios para los usuarios. Su objetivo es incentivar planes de movilidad sostenible en zonas urbanas, que contribuyan a reducir la emisión de gases de efecto invernadero que afectan la temperatura del planeta. En el último año, han detectado con preocupación que el uso de la bicicleta se está viendo obstaculizado por la falta de información sobre la seguridad en las vías. Piensa que proporcionar a los ciclistas información sobre las rutas más seguras podría contribuir a aumentar la práctica de esta actividad. Así, decide emprender un estudio para conocer cuáles son los factores que más impactan en los accidentes viales que involucran ciclistas. Este conocimiento, además, podría ayudar a las autoridades y planificadores urbanos en la implementación de mecanismos que reduzcan la ocurrencia de accidentes, así como otros planes de movilidad sostenible. Para realizar este estudio BiciAlpes han recopilado datos, de fuentes abiertas de la Alcaldía, sobre accidentes en los cuales se han visto involucrados ciclistas.\n",
    "\n",
    "BiciAlpes los ha contactado para realizar este proceso de caracterización e identificación de patrones que puedan ser utilizados para entender los factores que indicen en la severidad de los accidentes, con el fin de trazar mapas de seguridad vial para los ciclistas.  Los datos, al igual que el diccionario de datos, los encuentra disponibles en este directorio: [datos](./datos/Datos_BiciAlpes.csv)\n",
    "\n",
    "## Referencias\n",
    "\n",
    "1. [Datos a utilizar: Datos_BiciAlpes.csv](./datos/Datos_BiciAlpes.csv)\n",
    "2. [Diccionario de datos: Diccionario_BiciAlpes.csv](./datos/Diccionario_BiciAlpes.xlsx)\n",
    "3. [Documentación de los algoritmos de agrupamiento](https://scikit-learn.org/stable/modules/clustering.html)\n",
    "4. [Documentación de la librería de visualización de datos](https://seaborn.pydata.org/)\n",
    "5. [Informacion del negocio](./Laboratorio1_enunciado.md)"
   ]
  },
  {
   "attachments": {},
   "cell_type": "markdown",
   "metadata": {},
   "source": [
    "## 1. Carga de librerias necesarias"
   ]
  },
  {
   "cell_type": "code",
   "execution_count": 21,
   "metadata": {},
   "outputs": [],
   "source": [
    "#Se cargan las librerias necesarias para la implementacion\n",
    "import pandas as pd\n",
    "import numpy as np\n",
    "import matplotlib.pyplot as plt\n",
    "import seaborn as sns; sns.set()  # for plot styling\n",
    "# Este comando es requerido para que las visualizaciones se muestren en este notebook\n",
    "%matplotlib inline\n",
    "\n",
    "from sklearn.preprocessing import StandardScaler\n",
    "from sklearn.cluster import KMeans\n",
    "from sklearn.metrics import silhouette_samples, silhouette_score\n",
    "from sklearn.preprocessing import MinMaxScaler\n",
    "from sklearn.mixture._gaussian_mixture import GaussianMixture\n",
    "\n",
    "from matplotlib import cm\n",
    "from mpl_toolkits.mplot3d import Axes3D # for 3D plots\n",
    "\n",
    "#Scipy para aglomeracion\n",
    "from scipy.cluster.hierarchy import dendrogram, linkage\n",
    "from scipy.cluster.hierarchy import fcluster"
   ]
  },
  {
   "cell_type": "code",
   "execution_count": null,
   "metadata": {},
   "outputs": [],
   "source": [
    "pd.set_option('display.max_columns', None) # Número máximo de columnas a mostrar\n",
    "pd.set_option('display.max_rows', 50) # Numero máximo de filas a mostar"
   ]
  },
  {
   "attachments": {},
   "cell_type": "markdown",
   "metadata": {},
   "source": [
    "## Exploración y perfilamiento de los datos"
   ]
  },
  {
   "attachments": {},
   "cell_type": "markdown",
   "metadata": {},
   "source": [
    "## 2. Carga de datos"
   ]
  },
  {
   "cell_type": "code",
   "execution_count": 23,
   "metadata": {},
   "outputs": [],
   "source": [
    "# Se cargan los datos necesarios para la implementacion\n",
    "df_accidents = pd.read_csv('./datos/Datos_BiciAlpes.csv', sep=';', encoding = 'latin-1', index_col=0)"
   ]
  },
  {
   "cell_type": "code",
   "execution_count": 24,
   "metadata": {},
   "outputs": [
    {
     "data": {
      "text/plain": [
       "(5338, 14)"
      ]
     },
     "execution_count": 24,
     "metadata": {},
     "output_type": "execute_result"
    }
   ],
   "source": [
    "# Se muestran las dimensiones del dataframe\n",
    "df_accidents.shape"
   ]
  },
  {
   "cell_type": "code",
   "execution_count": 25,
   "metadata": {},
   "outputs": [
    {
     "data": {
      "text/html": [
       "<div>\n",
       "<style scoped>\n",
       "    .dataframe tbody tr th:only-of-type {\n",
       "        vertical-align: middle;\n",
       "    }\n",
       "\n",
       "    .dataframe tbody tr th {\n",
       "        vertical-align: top;\n",
       "    }\n",
       "\n",
       "    .dataframe thead th {\n",
       "        text-align: right;\n",
       "    }\n",
       "</style>\n",
       "<table border=\"1\" class=\"dataframe\">\n",
       "  <thead>\n",
       "    <tr style=\"text-align: right;\">\n",
       "      <th></th>\n",
       "      <th>Number_of_Casualties</th>\n",
       "      <th>Day_of_Week</th>\n",
       "      <th>Road_Type</th>\n",
       "      <th>Speed_limit</th>\n",
       "      <th>Light_Conditions</th>\n",
       "      <th>Weather_Conditions</th>\n",
       "      <th>Road_Surface_Conditions</th>\n",
       "      <th>Urban_or_Rural_Area</th>\n",
       "      <th>Vehicle_Type</th>\n",
       "      <th>Did_Police_Officer_Attend_Scene_of_Accident</th>\n",
       "      <th>Junction_Detail</th>\n",
       "      <th>Number_of_Vehicles</th>\n",
       "      <th>Accident_Severity</th>\n",
       "      <th>Unnamed: 14</th>\n",
       "    </tr>\n",
       "    <tr>\n",
       "      <th>Time</th>\n",
       "      <th></th>\n",
       "      <th></th>\n",
       "      <th></th>\n",
       "      <th></th>\n",
       "      <th></th>\n",
       "      <th></th>\n",
       "      <th></th>\n",
       "      <th></th>\n",
       "      <th></th>\n",
       "      <th></th>\n",
       "      <th></th>\n",
       "      <th></th>\n",
       "      <th></th>\n",
       "      <th></th>\n",
       "    </tr>\n",
       "  </thead>\n",
       "  <tbody>\n",
       "    <tr>\n",
       "      <th>Mañana</th>\n",
       "      <td>1</td>\n",
       "      <td>Fin de semana</td>\n",
       "      <td>6</td>\n",
       "      <td>30.0</td>\n",
       "      <td>1</td>\n",
       "      <td>1</td>\n",
       "      <td>1</td>\n",
       "      <td>1</td>\n",
       "      <td>bike</td>\n",
       "      <td>1</td>\n",
       "      <td>3</td>\n",
       "      <td>1</td>\n",
       "      <td>3</td>\n",
       "      <td>NaN</td>\n",
       "    </tr>\n",
       "    <tr>\n",
       "      <th>Tarde</th>\n",
       "      <td>1</td>\n",
       "      <td>Día laboral</td>\n",
       "      <td>6</td>\n",
       "      <td>40.0</td>\n",
       "      <td>1</td>\n",
       "      <td>1</td>\n",
       "      <td>1</td>\n",
       "      <td>1</td>\n",
       "      <td>bike</td>\n",
       "      <td>1</td>\n",
       "      <td>0</td>\n",
       "      <td>1</td>\n",
       "      <td>3</td>\n",
       "      <td>NaN</td>\n",
       "    </tr>\n",
       "    <tr>\n",
       "      <th>Noche</th>\n",
       "      <td>1</td>\n",
       "      <td>Día laboral</td>\n",
       "      <td>6</td>\n",
       "      <td>60.0</td>\n",
       "      <td>1</td>\n",
       "      <td>1</td>\n",
       "      <td>1</td>\n",
       "      <td>2</td>\n",
       "      <td>bike</td>\n",
       "      <td>1</td>\n",
       "      <td>0</td>\n",
       "      <td>1</td>\n",
       "      <td>2</td>\n",
       "      <td>NaN</td>\n",
       "    </tr>\n",
       "    <tr>\n",
       "      <th>Mañana</th>\n",
       "      <td>1</td>\n",
       "      <td>Día laboral</td>\n",
       "      <td>6</td>\n",
       "      <td>60.0</td>\n",
       "      <td>1</td>\n",
       "      <td>1</td>\n",
       "      <td>1</td>\n",
       "      <td>2</td>\n",
       "      <td>bike</td>\n",
       "      <td>1</td>\n",
       "      <td>3</td>\n",
       "      <td>1</td>\n",
       "      <td>2</td>\n",
       "      <td>NaN</td>\n",
       "    </tr>\n",
       "    <tr>\n",
       "      <th>Noche</th>\n",
       "      <td>1</td>\n",
       "      <td>Día laboral</td>\n",
       "      <td>6</td>\n",
       "      <td>30.0</td>\n",
       "      <td>4</td>\n",
       "      <td>1</td>\n",
       "      <td>1</td>\n",
       "      <td>1</td>\n",
       "      <td>bike</td>\n",
       "      <td>1</td>\n",
       "      <td>0</td>\n",
       "      <td>1</td>\n",
       "      <td>3</td>\n",
       "      <td>NaN</td>\n",
       "    </tr>\n",
       "  </tbody>\n",
       "</table>\n",
       "</div>"
      ],
      "text/plain": [
       "        Number_of_Casualties    Day_of_Week  Road_Type  Speed_limit  \\\n",
       "Time                                                                  \n",
       "Mañana                     1  Fin de semana          6         30.0   \n",
       "Tarde                      1    Día laboral          6         40.0   \n",
       "Noche                      1    Día laboral          6         60.0   \n",
       "Mañana                     1    Día laboral          6         60.0   \n",
       "Noche                      1    Día laboral          6         30.0   \n",
       "\n",
       "        Light_Conditions  Weather_Conditions  Road_Surface_Conditions  \\\n",
       "Time                                                                    \n",
       "Mañana                 1                   1                        1   \n",
       "Tarde                  1                   1                        1   \n",
       "Noche                  1                   1                        1   \n",
       "Mañana                 1                   1                        1   \n",
       "Noche                  4                   1                        1   \n",
       "\n",
       "        Urban_or_Rural_Area Vehicle_Type  \\\n",
       "Time                                       \n",
       "Mañana                    1         bike   \n",
       "Tarde                     1         bike   \n",
       "Noche                     2         bike   \n",
       "Mañana                    2         bike   \n",
       "Noche                     1         bike   \n",
       "\n",
       "        Did_Police_Officer_Attend_Scene_of_Accident  Junction_Detail  \\\n",
       "Time                                                                   \n",
       "Mañana                                            1                3   \n",
       "Tarde                                             1                0   \n",
       "Noche                                             1                0   \n",
       "Mañana                                            1                3   \n",
       "Noche                                             1                0   \n",
       "\n",
       "        Number_of_Vehicles  Accident_Severity  Unnamed: 14  \n",
       "Time                                                        \n",
       "Mañana                   1                  3          NaN  \n",
       "Tarde                    1                  3          NaN  \n",
       "Noche                    1                  2          NaN  \n",
       "Mañana                   1                  2          NaN  \n",
       "Noche                    1                  3          NaN  "
      ]
     },
     "execution_count": 25,
     "metadata": {},
     "output_type": "execute_result"
    }
   ],
   "source": [
    "# Tomamos una muestra aleatoria de los datos para observar su información\n",
    "df_accidents.sample(5)"
   ]
  },
  {
   "attachments": {},
   "cell_type": "markdown",
   "metadata": {},
   "source": [
    "Se puede observar que existe una columna llamada \"Unnamed: 14\" la cual cuenta con valores nulos en su totalidad. Esta no representa información relevante para el análisis, por lo que se procede a continuar con el perfilamineto para ver su comportamiento."
   ]
  },
  {
   "attachments": {},
   "cell_type": "markdown",
   "metadata": {},
   "source": [
    "## 3. Descripción de los datos"
   ]
  },
  {
   "cell_type": "code",
   "execution_count": 27,
   "metadata": {},
   "outputs": [
    {
     "data": {
      "text/plain": [
       "Number_of_Casualties                             int64\n",
       "Day_of_Week                                     object\n",
       "Road_Type                                        int64\n",
       "Speed_limit                                    float64\n",
       "Light_Conditions                                 int64\n",
       "Weather_Conditions                               int64\n",
       "Road_Surface_Conditions                          int64\n",
       "Urban_or_Rural_Area                              int64\n",
       "Vehicle_Type                                    object\n",
       "Did_Police_Officer_Attend_Scene_of_Accident      int64\n",
       "Junction_Detail                                  int64\n",
       "Number_of_Vehicles                               int64\n",
       "Accident_Severity                                int64\n",
       "Unnamed: 14                                    float64\n",
       "dtype: object"
      ]
     },
     "execution_count": 27,
     "metadata": {},
     "output_type": "execute_result"
    }
   ],
   "source": [
    "# Se muestran los tipos de datos de cada columna\n",
    "df_accidents.dtypes"
   ]
  },
  {
   "attachments": {},
   "cell_type": "markdown",
   "metadata": {},
   "source": [
    "### 3.1 Información de las variables númericas"
   ]
  },
  {
   "cell_type": "code",
   "execution_count": 32,
   "metadata": {},
   "outputs": [
    {
     "data": {
      "text/html": [
       "<div>\n",
       "<style scoped>\n",
       "    .dataframe tbody tr th:only-of-type {\n",
       "        vertical-align: middle;\n",
       "    }\n",
       "\n",
       "    .dataframe tbody tr th {\n",
       "        vertical-align: top;\n",
       "    }\n",
       "\n",
       "    .dataframe thead th {\n",
       "        text-align: right;\n",
       "    }\n",
       "</style>\n",
       "<table border=\"1\" class=\"dataframe\">\n",
       "  <thead>\n",
       "    <tr style=\"text-align: right;\">\n",
       "      <th></th>\n",
       "      <th>Number_of_Casualties</th>\n",
       "      <th>Speed_limit</th>\n",
       "      <th>Number_of_Vehicles</th>\n",
       "    </tr>\n",
       "  </thead>\n",
       "  <tbody>\n",
       "    <tr>\n",
       "      <th>count</th>\n",
       "      <td>5338.000000</td>\n",
       "      <td>5338.000000</td>\n",
       "      <td>5338.000000</td>\n",
       "    </tr>\n",
       "    <tr>\n",
       "      <th>mean</th>\n",
       "      <td>1.118022</td>\n",
       "      <td>33.522855</td>\n",
       "      <td>1.001124</td>\n",
       "    </tr>\n",
       "    <tr>\n",
       "      <th>std</th>\n",
       "      <td>0.330694</td>\n",
       "      <td>10.206576</td>\n",
       "      <td>0.033511</td>\n",
       "    </tr>\n",
       "    <tr>\n",
       "      <th>min</th>\n",
       "      <td>1.000000</td>\n",
       "      <td>15.000000</td>\n",
       "      <td>1.000000</td>\n",
       "    </tr>\n",
       "    <tr>\n",
       "      <th>25%</th>\n",
       "      <td>1.000000</td>\n",
       "      <td>30.000000</td>\n",
       "      <td>1.000000</td>\n",
       "    </tr>\n",
       "    <tr>\n",
       "      <th>50%</th>\n",
       "      <td>1.000000</td>\n",
       "      <td>30.000000</td>\n",
       "      <td>1.000000</td>\n",
       "    </tr>\n",
       "    <tr>\n",
       "      <th>75%</th>\n",
       "      <td>1.000000</td>\n",
       "      <td>30.000000</td>\n",
       "      <td>1.000000</td>\n",
       "    </tr>\n",
       "    <tr>\n",
       "      <th>max</th>\n",
       "      <td>4.000000</td>\n",
       "      <td>70.000000</td>\n",
       "      <td>2.000000</td>\n",
       "    </tr>\n",
       "  </tbody>\n",
       "</table>\n",
       "</div>"
      ],
      "text/plain": [
       "       Number_of_Casualties  Speed_limit  Number_of_Vehicles\n",
       "count           5338.000000  5338.000000         5338.000000\n",
       "mean               1.118022    33.522855            1.001124\n",
       "std                0.330694    10.206576            0.033511\n",
       "min                1.000000    15.000000            1.000000\n",
       "25%                1.000000    30.000000            1.000000\n",
       "50%                1.000000    30.000000            1.000000\n",
       "75%                1.000000    30.000000            1.000000\n",
       "max                4.000000    70.000000            2.000000"
      ]
     },
     "execution_count": 32,
     "metadata": {},
     "output_type": "execute_result"
    }
   ],
   "source": [
    "# Extraemos las variables númericas mencionadas en el diccionario\n",
    "df_accidents_numeric = df_accidents[['Number_of_Casualties', 'Speed_limit', 'Number_of_Vehicles']]\n",
    "\n",
    "# Describimos las variables númericas\n",
    "df_accidents_numeric.describe()"
   ]
  },
  {
   "attachments": {},
   "cell_type": "markdown",
   "metadata": {},
   "source": [
    "Para los resultados de las variables numericas que tenemos, se tiene la siguiente información:\n",
    "\n",
    "* Para todas existe un numero de accidentes de 5338, lo cual es correcto ya que es el total de accidentes que tenemos en el dataset.\n",
    "\n",
    "### Number_of_Casualties\n",
    "\n",
    "* Para esta variable se tiene que el valor minimo es 1 y máximo es 4, lo cual nos indica que para cada accidente se tiene un numero de personas involucradas que va desde 1 hasta 4.\n",
    "\n",
    "* El valor promedio es de 1.12 lo cual nos indica que en promedio para cada accidente se tiene una persona involucrada.\n",
    "\n",
    "* En cuanto a los porcentajes de los datos, tenemos que para el 25%, 50% y 75% de los datos se tiene que el numero de personas involucradas es 1, lo cual nos indica que la mayoria de los accidentes se tiene una sola persona involucrada. Adicionalmente, esto nos indica que el caso que se muestra como maximo se encuentra fuera del 75% de los datos.\n",
    "\n",
    "### Speed_limit\n",
    "\n",
    "* Para esta variable se tiene que el valor minimo es 15 y máximo es 70, lo cual nos indica que para cada accidente se tiene un limite de velocidad que va desde 15 hasta 70.\n",
    "\n",
    "* El valor promedio es de 33.52 lo cual nos indica que en promedio para cada accidente se tiene un limite de velocidad de 32.52.\n",
    "\n",
    "* En cuanto a los porcentajes de los datos, tenemos que para el 25%, 50% y 75% de los datos se tiene que el limite de velocidad es 30, lo cual nos indica que la mayoria de los accidentes se tiene un limite de velocidad de 30. Adicionalmente, esto nos indica que el caso que se muestra como maximo se encuentra fuera del 75% de los datos.\n",
    "\n",
    "### Number_of_Vehicles\n",
    "\n",
    "* Para esta variable se tiene que el valor minimo es 1 y máximo es 2, lo cual nos indica que para cada accidente se tiene un numero de vehiculos involucrados que va desde 1 hasta 2.\n",
    "\n",
    "* El valor promedio es de 1.001 lo cual nos indica que en promedio para cada accidente se tiene un numero de vehiculos involucrados de 1.001.\n",
    "\n",
    "* En cuanto a los porcentajes de los datos, tenemos que para el 25%, 50% y 75% de los datos se tiene que el numero de vehiculos involucrados es 1, lo cual nos indica que la mayoria de los accidentes se tiene un solo vehiculo involucrado. Adicionalmente, esto nos indica que el caso que se muestra como maximo se encuentra fuera del 75% de los datos."
   ]
  },
  {
   "attachments": {},
   "cell_type": "markdown",
   "metadata": {},
   "source": [
    "Teniendo en cuenta la información anterior, es posible encontrar una relación entre el numero de involucrados y el numero de vehiculos para asi poder determinar si es posible agrupar los datos en base a esta relación."
   ]
  },
  {
   "cell_type": "code",
   "execution_count": 33,
   "metadata": {},
   "outputs": [],
   "source": [
    "# Se encuentra la relacion entre las variables númericas (Number_of_Casualties y Number_of_Vehicles)\n",
    "df_accidents[\"CasualtiesbyVehicle\"] = df_accidents[\"Number_of_Casualties\"]/df_accidents[\"Number_of_Vehicles\"]"
   ]
  },
  {
   "cell_type": "code",
   "execution_count": 40,
   "metadata": {},
   "outputs": [
    {
     "data": {
      "text/plain": [
       "count    5338.000000\n",
       "mean        1.116898\n",
       "std         0.329391\n",
       "min         1.000000\n",
       "25%         1.000000\n",
       "50%         1.000000\n",
       "75%         1.000000\n",
       "max         4.000000\n",
       "Name: CasualtiesbyVehicle, dtype: float64"
      ]
     },
     "execution_count": 40,
     "metadata": {},
     "output_type": "execute_result"
    }
   ],
   "source": [
    "df_accidents[\"CasualtiesbyVehicle\"].describe()"
   ]
  },
  {
   "attachments": {},
   "cell_type": "markdown",
   "metadata": {},
   "source": [
    "En base a esta información, tenemos que la media de accidentes por numero de vehiculo es 1.117 lo cual nos indica que en promedio para cada vehiculo involucrado se tiene un accidente. Adicionalmente, se puede asumir haciendo el analisis adecuado que en cada accidente el involucrado es el ciclista y el vehiculo es el perpertrador del accidente."
   ]
  },
  {
   "cell_type": "code",
   "execution_count": 36,
   "metadata": {},
   "outputs": [
    {
     "data": {
      "text/html": [
       "<div>\n",
       "<style scoped>\n",
       "    .dataframe tbody tr th:only-of-type {\n",
       "        vertical-align: middle;\n",
       "    }\n",
       "\n",
       "    .dataframe tbody tr th {\n",
       "        vertical-align: top;\n",
       "    }\n",
       "\n",
       "    .dataframe thead th {\n",
       "        text-align: right;\n",
       "    }\n",
       "</style>\n",
       "<table border=\"1\" class=\"dataframe\">\n",
       "  <thead>\n",
       "    <tr style=\"text-align: right;\">\n",
       "      <th></th>\n",
       "      <th>Number_of_Casualties</th>\n",
       "      <th>Day_of_Week</th>\n",
       "      <th>Road_Type</th>\n",
       "      <th>Speed_limit</th>\n",
       "      <th>Light_Conditions</th>\n",
       "      <th>Weather_Conditions</th>\n",
       "      <th>Road_Surface_Conditions</th>\n",
       "      <th>Urban_or_Rural_Area</th>\n",
       "      <th>Vehicle_Type</th>\n",
       "      <th>Did_Police_Officer_Attend_Scene_of_Accident</th>\n",
       "      <th>Junction_Detail</th>\n",
       "      <th>Number_of_Vehicles</th>\n",
       "      <th>Accident_Severity</th>\n",
       "      <th>Unnamed: 14</th>\n",
       "      <th>CasualtiesbyVehicle</th>\n",
       "    </tr>\n",
       "    <tr>\n",
       "      <th>Time</th>\n",
       "      <th></th>\n",
       "      <th></th>\n",
       "      <th></th>\n",
       "      <th></th>\n",
       "      <th></th>\n",
       "      <th></th>\n",
       "      <th></th>\n",
       "      <th></th>\n",
       "      <th></th>\n",
       "      <th></th>\n",
       "      <th></th>\n",
       "      <th></th>\n",
       "      <th></th>\n",
       "      <th></th>\n",
       "      <th></th>\n",
       "    </tr>\n",
       "  </thead>\n",
       "  <tbody>\n",
       "    <tr>\n",
       "      <th>Tarde</th>\n",
       "      <td>4</td>\n",
       "      <td>Fin de semana</td>\n",
       "      <td>6</td>\n",
       "      <td>30.0</td>\n",
       "      <td>1</td>\n",
       "      <td>2</td>\n",
       "      <td>2</td>\n",
       "      <td>1</td>\n",
       "      <td>bike</td>\n",
       "      <td>1</td>\n",
       "      <td>3</td>\n",
       "      <td>1</td>\n",
       "      <td>3</td>\n",
       "      <td>NaN</td>\n",
       "      <td>4.0</td>\n",
       "    </tr>\n",
       "    <tr>\n",
       "      <th>Mañana</th>\n",
       "      <td>4</td>\n",
       "      <td>Día laboral</td>\n",
       "      <td>6</td>\n",
       "      <td>30.0</td>\n",
       "      <td>1</td>\n",
       "      <td>1</td>\n",
       "      <td>1</td>\n",
       "      <td>1</td>\n",
       "      <td>bike</td>\n",
       "      <td>1</td>\n",
       "      <td>6</td>\n",
       "      <td>1</td>\n",
       "      <td>3</td>\n",
       "      <td>NaN</td>\n",
       "      <td>4.0</td>\n",
       "    </tr>\n",
       "  </tbody>\n",
       "</table>\n",
       "</div>"
      ],
      "text/plain": [
       "        Number_of_Casualties    Day_of_Week  Road_Type  Speed_limit  \\\n",
       "Time                                                                  \n",
       "Tarde                      4  Fin de semana          6         30.0   \n",
       "Mañana                     4    Día laboral          6         30.0   \n",
       "\n",
       "        Light_Conditions  Weather_Conditions  Road_Surface_Conditions  \\\n",
       "Time                                                                    \n",
       "Tarde                  1                   2                        2   \n",
       "Mañana                 1                   1                        1   \n",
       "\n",
       "        Urban_or_Rural_Area Vehicle_Type  \\\n",
       "Time                                       \n",
       "Tarde                     1         bike   \n",
       "Mañana                    1         bike   \n",
       "\n",
       "        Did_Police_Officer_Attend_Scene_of_Accident  Junction_Detail  \\\n",
       "Time                                                                   \n",
       "Tarde                                             1                3   \n",
       "Mañana                                            1                6   \n",
       "\n",
       "        Number_of_Vehicles  Accident_Severity  Unnamed: 14  \\\n",
       "Time                                                         \n",
       "Tarde                    1                  3          NaN   \n",
       "Mañana                   1                  3          NaN   \n",
       "\n",
       "        CasualtiesbyVehicle  \n",
       "Time                         \n",
       "Tarde                   4.0  \n",
       "Mañana                  4.0  "
      ]
     },
     "execution_count": 36,
     "metadata": {},
     "output_type": "execute_result"
    }
   ],
   "source": [
    "df_accidents[df_accidents[\"CasualtiesbyVehicle\"] == 4]"
   ]
  },
  {
   "attachments": {},
   "cell_type": "markdown",
   "metadata": {},
   "source": [
    "### 3.2 Información de las variables categóricas"
   ]
  },
  {
   "cell_type": "code",
   "execution_count": 57,
   "metadata": {},
   "outputs": [],
   "source": [
    "# Extraemos las variables númericas mencionadas en el diccionario\n",
    "df_accidents_categorica = df_accidents[['Accident_Severity', 'Day_of_Week', 'Road_Type', 'Junction_Detail', 'Light_Conditions', 'Weather_Conditions', 'Road_Surface_Conditions', 'Urban_or_Rural_Area', 'Vehicle_Type', 'Did_Police_Officer_Attend_Scene_of_Accident']]"
   ]
  },
  {
   "cell_type": "code",
   "execution_count": 55,
   "metadata": {},
   "outputs": [
    {
     "data": {
      "text/plain": [
       "3    3462\n",
       "2    1781\n",
       "1      95\n",
       "Name: Accident_Severity, dtype: int64"
      ]
     },
     "execution_count": 55,
     "metadata": {},
     "output_type": "execute_result"
    }
   ],
   "source": [
    "# Describimos la variable categorica Accident_Severity\n",
    "df_accidents_categorica['Accident_Severity'].value_counts()"
   ]
  },
  {
   "attachments": {},
   "cell_type": "markdown",
   "metadata": {},
   "source": [
    "De la severidad de los accidentes, se puede decir que la mayoria de los accidentes son leves, seguido de los accidentes serios y los accidentes mortales."
   ]
  },
  {
   "cell_type": "code",
   "execution_count": 56,
   "metadata": {},
   "outputs": [
    {
     "data": {
      "text/plain": [
       "Día laboral      3832\n",
       "Fin de semana    1487\n",
       "Name: Day_of_Week, dtype: int64"
      ]
     },
     "execution_count": 56,
     "metadata": {},
     "output_type": "execute_result"
    }
   ],
   "source": [
    "# Describimos las variable categorica Day_of_Week\n",
    "df_accidents_categorica['Day_of_Week'].value_counts()"
   ]
  },
  {
   "attachments": {},
   "cell_type": "markdown",
   "metadata": {},
   "source": [
    "De los accidentes podemos decir que la mayoria ocurren en un dia laboral y el resto los fines de semana."
   ]
  },
  {
   "cell_type": "code",
   "execution_count": 58,
   "metadata": {},
   "outputs": [
    {
     "data": {
      "text/plain": [
       "6    4475\n",
       "3     312\n",
       "2     253\n",
       "9     141\n",
       "1     139\n",
       "7      18\n",
       "Name: Road_Type, dtype: int64"
      ]
     },
     "execution_count": 58,
     "metadata": {},
     "output_type": "execute_result"
    }
   ],
   "source": [
    "# Describimos las variable categorica Road_Type\n",
    "df_accidents_categorica['Road_Type'].value_counts()"
   ]
  },
  {
   "attachments": {},
   "cell_type": "markdown",
   "metadata": {},
   "source": [
    "De los tipos de carretera tenemos que la mayoría de accidentes ocurren en carreteras con calzada seguido de carreteras autovia, carreteras de un solo sentido, de origen desconocido, rotondas y circunvalación."
   ]
  },
  {
   "cell_type": "code",
   "execution_count": 59,
   "metadata": {},
   "outputs": [
    {
     "data": {
      "text/plain": [
       " 0    2763\n",
       " 3    1555\n",
       " 6     468\n",
       " 1     199\n",
       " 9     171\n",
       " 7      68\n",
       " 8      43\n",
       " 2      34\n",
       "-1      25\n",
       " 5      12\n",
       "Name: Junction_Detail, dtype: int64"
      ]
     },
     "execution_count": 59,
     "metadata": {},
     "output_type": "execute_result"
    }
   ],
   "source": [
    "# Describimos las variable categorica Junction_Detail\n",
    "df_accidents_categorica['Junction_Detail'].value_counts()"
   ]
  },
  {
   "attachments": {},
   "cell_type": "markdown",
   "metadata": {},
   "source": [
    "En cuanto a las caracteristicas del cruce, tenemos que se presentaron mas accidentes donde no habían cruces y menos donde se contaba con una carretera de acceso."
   ]
  },
  {
   "cell_type": "code",
   "execution_count": 60,
   "metadata": {},
   "outputs": [
    {
     "data": {
      "text/plain": [
       "1    4231\n",
       "4     891\n",
       "6     122\n",
       "7      73\n",
       "5      21\n",
       "Name: Light_Conditions, dtype: int64"
      ]
     },
     "execution_count": 60,
     "metadata": {},
     "output_type": "execute_result"
    }
   ],
   "source": [
    "# Describimos las variable categorica Light_Conditions\n",
    "df_accidents_categorica['Light_Conditions'].value_counts()"
   ]
  },
  {
   "attachments": {},
   "cell_type": "markdown",
   "metadata": {},
   "source": [
    "En cuanto a las condiciones de iluminación, la mayor cantidad de accidentes se presentó durante el día, y la menor cantidad con iluminación desconocida."
   ]
  },
  {
   "cell_type": "code",
   "execution_count": 61,
   "metadata": {},
   "outputs": [
    {
     "data": {
      "text/plain": [
       "1    4621\n",
       "2     321\n",
       "9     191\n",
       "8      80\n",
       "4      59\n",
       "5      46\n",
       "3      12\n",
       "7       7\n",
       "6       1\n",
       "Name: Weather_Conditions, dtype: int64"
      ]
     },
     "execution_count": 61,
     "metadata": {},
     "output_type": "execute_result"
    }
   ],
   "source": [
    "# Describimos las variable categorica Weather_Conditions\n",
    "df_accidents_categorica['Weather_Conditions'].value_counts()"
   ]
  },
  {
   "attachments": {},
   "cell_type": "markdown",
   "metadata": {},
   "source": [
    "En cuanto a las condiciones climaticas, la cantidad de accidentes es mayor cuando este presenta un buen clima y vientos suaves y menor cuando el clima presenta nieve. "
   ]
  },
  {
   "cell_type": "code",
   "execution_count": 62,
   "metadata": {},
   "outputs": [
    {
     "data": {
      "text/plain": [
       " 1    4260\n",
       " 2     901\n",
       " 4      87\n",
       "-1      81\n",
       " 3       8\n",
       " 5       1\n",
       "Name: Road_Surface_Conditions, dtype: int64"
      ]
     },
     "execution_count": 62,
     "metadata": {},
     "output_type": "execute_result"
    }
   ],
   "source": [
    "# Describimos las variable categorica Road_Surface_Conditions\n",
    "df_accidents_categorica['Road_Surface_Conditions'].value_counts()"
   ]
  },
  {
   "attachments": {},
   "cell_type": "markdown",
   "metadata": {},
   "source": [
    "En cuanto a las condiciones de la superficie de la carretera, la mayor cantidad de accidentes se presentó en carreteras secas y la menor cantidad en carreteras inundadas."
   ]
  },
  {
   "cell_type": "code",
   "execution_count": 63,
   "metadata": {},
   "outputs": [
    {
     "data": {
      "text/plain": [
       "1    4040\n",
       "2    1298\n",
       "Name: Urban_or_Rural_Area, dtype: int64"
      ]
     },
     "execution_count": 63,
     "metadata": {},
     "output_type": "execute_result"
    }
   ],
   "source": [
    "# Describimos las variable categorica Urban_or_Rural_Area\n",
    "df_accidents_categorica['Urban_or_Rural_Area'].value_counts()"
   ]
  },
  {
   "attachments": {},
   "cell_type": "markdown",
   "metadata": {},
   "source": [
    "La mayor cantidad de accidentes se presentó en carreteras urbanas mientras que la menor cantidad se presentó en carreteras rurales."
   ]
  },
  {
   "cell_type": "code",
   "execution_count": 64,
   "metadata": {},
   "outputs": [
    {
     "data": {
      "text/plain": [
       "bike    5338\n",
       "Name: Vehicle_Type, dtype: int64"
      ]
     },
     "execution_count": 64,
     "metadata": {},
     "output_type": "execute_result"
    }
   ],
   "source": [
    "# Describimos las variable categorica Vehicle_Type\n",
    "df_accidents_categorica['Vehicle_Type'].value_counts()"
   ]
  },
  {
   "attachments": {},
   "cell_type": "markdown",
   "metadata": {},
   "source": [
    "En cuanto al tipo de vehiculo, todos los accidentes se presentaron con bicicletas."
   ]
  },
  {
   "cell_type": "code",
   "execution_count": 65,
   "metadata": {},
   "outputs": [
    {
     "data": {
      "text/plain": [
       " 1    4059\n",
       " 2    1231\n",
       " 3      46\n",
       "-1       2\n",
       "Name: Did_Police_Officer_Attend_Scene_of_Accident, dtype: int64"
      ]
     },
     "execution_count": 65,
     "metadata": {},
     "output_type": "execute_result"
    }
   ],
   "source": [
    "# Describimos las variable categorica Did_Police_Officer_Attend_Scene_of_Accident\n",
    "df_accidents_categorica['Did_Police_Officer_Attend_Scene_of_Accident'].value_counts()"
   ]
  },
  {
   "attachments": {},
   "cell_type": "markdown",
   "metadata": {},
   "source": [
    "En cuanto a si un oficial de policia asisitio al accidente, la mayoria de los accidentes si contaron con la asistencia de un oficial de policia, mientras que la menor cantidad no contó con el reporte de un oficial de policia."
   ]
  }
 ],
 "metadata": {
  "kernelspec": {
   "display_name": "base",
   "language": "python",
   "name": "python3"
  },
  "language_info": {
   "codemirror_mode": {
    "name": "ipython",
    "version": 3
   },
   "file_extension": ".py",
   "mimetype": "text/x-python",
   "name": "python",
   "nbconvert_exporter": "python",
   "pygments_lexer": "ipython3",
   "version": "3.9.13"
  },
  "orig_nbformat": 4,
  "vscode": {
   "interpreter": {
    "hash": "1a200bf2f2b353d797e9b393b636228149aea90dc79048c2b3c6be0103758b69"
   }
  }
 },
 "nbformat": 4,
 "nbformat_minor": 2
}
