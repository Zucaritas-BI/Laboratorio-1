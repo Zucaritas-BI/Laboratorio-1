{
 "cells": [
  {
   "attachments": {},
   "cell_type": "markdown",
   "metadata": {},
   "source": [
    "![EncabezadoIN.JPG](attachment:EncabezadoIN.JPG)"
   ]
  },
  {
   "cell_type": "code",
   "execution_count": null,
   "metadata": {},
   "outputs": [],
   "source": []
  }
 ],
 "metadata": {
  "kernelspec": {
   "display_name": "Python 3",
   "language": "python",
   "name": "python3"
  },
  "language_info": {
   "name": "python",
   "version": "3.10.6"
  },
  "orig_nbformat": 4,
  "vscode": {
   "interpreter": {
    "hash": "d5cea3f534958ef1990666e95211a64de4e0e187d74fb98233208b2ff7513f10"
   }
  }
 },
 "nbformat": 4,
 "nbformat_minor": 2
}
